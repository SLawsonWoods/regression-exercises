{
 "cells": [
  {
   "cell_type": "code",
   "execution_count": 1,
   "id": "a4a7053c",
   "metadata": {},
   "outputs": [],
   "source": [
    "import matplotlib.pyplot as plt\n",
    "import pandas as pd\n",
    "import numpy as np\n",
    "import seaborn as sns\n",
    "from scipy import stats\n",
    "import statsmodels\n",
    "import wrangle\n",
    "from sklearn.model_selection import train_test_split\n",
    "from matplotlib.pyplot import figure\n",
    "import explore\n",
    "\n",
    "\n",
    "df1 = pd.read_csv('https://gist.githubusercontent.com/zgulde/cf9e11788c122bf6a75447209f8a9f0e/raw/17535dc2c29d6c47c228279e8941c037bb2d4405/one.csv')\n",
    "df2 = pd.read_csv('https://gist.githubusercontent.com/zgulde/cf9e11788c122bf6a75447209f8a9f0e/raw/17535dc2c29d6c47c228279e8941c037bb2d4405/two.csv')\n",
    "df3 = pd.read_csv('https://gist.githubusercontent.com/zgulde/cf9e11788c122bf6a75447209f8a9f0e/raw/a6e34db05ac8d817789c205787527974fa10c092/three.csv')"
   ]
  },
  {
   "cell_type": "markdown",
   "id": "cecd3d4c",
   "metadata": {},
   "source": [
    "Classwork"
   ]
  },
  {
   "cell_type": "markdown",
   "id": "dc63aeba",
   "metadata": {},
   "source": [
    "For df1:\n",
    "Take a look at the data in df1.\n",
    "Does x increase from time one to time two? - No\n",
    "Visualize the relationship between x and time. -Complete with a bar chart\n",
    "Run a statistical test to further examine the relationship between these features.\n",
    "\n",
    "For df2:\n",
    "Take a look at the data in df2.\n",
    "Visualize the relationship between x and y.\n",
    "How would you describe the relationship between x and y?\n",
    "Run a statistical test to examine the relationship between x and y.\n",
    "\n",
    "For df3:\n",
    "Take a look at the data in df3\n",
    "Which surgeon has the higher success rate?\n",
    "If you had to have heart bypass surgery, which surgeon would you go to?\n",
    "For df1 and df2, what happens to the relationships if you take into account the group feature?"
   ]
  },
  {
   "cell_type": "code",
   "execution_count": 2,
   "id": "01fb538b",
   "metadata": {},
   "outputs": [
    {
     "data": {
      "text/html": [
       "<div>\n",
       "<style scoped>\n",
       "    .dataframe tbody tr th:only-of-type {\n",
       "        vertical-align: middle;\n",
       "    }\n",
       "\n",
       "    .dataframe tbody tr th {\n",
       "        vertical-align: top;\n",
       "    }\n",
       "\n",
       "    .dataframe thead th {\n",
       "        text-align: right;\n",
       "    }\n",
       "</style>\n",
       "<table border=\"1\" class=\"dataframe\">\n",
       "  <thead>\n",
       "    <tr style=\"text-align: right;\">\n",
       "      <th></th>\n",
       "      <th>group</th>\n",
       "      <th>x</th>\n",
       "      <th>time</th>\n",
       "    </tr>\n",
       "  </thead>\n",
       "  <tbody>\n",
       "    <tr>\n",
       "      <th>0</th>\n",
       "      <td>a</td>\n",
       "      <td>7.087113</td>\n",
       "      <td>one</td>\n",
       "    </tr>\n",
       "    <tr>\n",
       "      <th>1</th>\n",
       "      <td>a</td>\n",
       "      <td>5.164441</td>\n",
       "      <td>one</td>\n",
       "    </tr>\n",
       "    <tr>\n",
       "      <th>2</th>\n",
       "      <td>a</td>\n",
       "      <td>6.150206</td>\n",
       "      <td>one</td>\n",
       "    </tr>\n",
       "    <tr>\n",
       "      <th>3</th>\n",
       "      <td>a</td>\n",
       "      <td>3.732648</td>\n",
       "      <td>one</td>\n",
       "    </tr>\n",
       "    <tr>\n",
       "      <th>4</th>\n",
       "      <td>a</td>\n",
       "      <td>5.181035</td>\n",
       "      <td>one</td>\n",
       "    </tr>\n",
       "    <tr>\n",
       "      <th>5</th>\n",
       "      <td>a</td>\n",
       "      <td>6.177862</td>\n",
       "      <td>one</td>\n",
       "    </tr>\n",
       "    <tr>\n",
       "      <th>6</th>\n",
       "      <td>b</td>\n",
       "      <td>10.197019</td>\n",
       "      <td>one</td>\n",
       "    </tr>\n",
       "    <tr>\n",
       "      <th>7</th>\n",
       "      <td>a</td>\n",
       "      <td>6.031114</td>\n",
       "      <td>one</td>\n",
       "    </tr>\n",
       "    <tr>\n",
       "      <th>8</th>\n",
       "      <td>a</td>\n",
       "      <td>3.915432</td>\n",
       "      <td>one</td>\n",
       "    </tr>\n",
       "    <tr>\n",
       "      <th>9</th>\n",
       "      <td>a</td>\n",
       "      <td>3.636528</td>\n",
       "      <td>one</td>\n",
       "    </tr>\n",
       "    <tr>\n",
       "      <th>10</th>\n",
       "      <td>a</td>\n",
       "      <td>5.379401</td>\n",
       "      <td>one</td>\n",
       "    </tr>\n",
       "    <tr>\n",
       "      <th>11</th>\n",
       "      <td>a</td>\n",
       "      <td>4.620824</td>\n",
       "      <td>one</td>\n",
       "    </tr>\n",
       "    <tr>\n",
       "      <th>12</th>\n",
       "      <td>a</td>\n",
       "      <td>5.642055</td>\n",
       "      <td>one</td>\n",
       "    </tr>\n",
       "    <tr>\n",
       "      <th>13</th>\n",
       "      <td>a</td>\n",
       "      <td>3.022112</td>\n",
       "      <td>one</td>\n",
       "    </tr>\n",
       "    <tr>\n",
       "      <th>14</th>\n",
       "      <td>a</td>\n",
       "      <td>5.712265</td>\n",
       "      <td>one</td>\n",
       "    </tr>\n",
       "    <tr>\n",
       "      <th>15</th>\n",
       "      <td>a</td>\n",
       "      <td>7.598304</td>\n",
       "      <td>one</td>\n",
       "    </tr>\n",
       "    <tr>\n",
       "      <th>16</th>\n",
       "      <td>a</td>\n",
       "      <td>4.975374</td>\n",
       "      <td>one</td>\n",
       "    </tr>\n",
       "    <tr>\n",
       "      <th>17</th>\n",
       "      <td>a</td>\n",
       "      <td>5.034142</td>\n",
       "      <td>one</td>\n",
       "    </tr>\n",
       "    <tr>\n",
       "      <th>18</th>\n",
       "      <td>a</td>\n",
       "      <td>5.179549</td>\n",
       "      <td>one</td>\n",
       "    </tr>\n",
       "    <tr>\n",
       "      <th>19</th>\n",
       "      <td>a</td>\n",
       "      <td>3.138024</td>\n",
       "      <td>one</td>\n",
       "    </tr>\n",
       "  </tbody>\n",
       "</table>\n",
       "</div>"
      ],
      "text/plain": [
       "   group          x time\n",
       "0      a   7.087113  one\n",
       "1      a   5.164441  one\n",
       "2      a   6.150206  one\n",
       "3      a   3.732648  one\n",
       "4      a   5.181035  one\n",
       "5      a   6.177862  one\n",
       "6      b  10.197019  one\n",
       "7      a   6.031114  one\n",
       "8      a   3.915432  one\n",
       "9      a   3.636528  one\n",
       "10     a   5.379401  one\n",
       "11     a   4.620824  one\n",
       "12     a   5.642055  one\n",
       "13     a   3.022112  one\n",
       "14     a   5.712265  one\n",
       "15     a   7.598304  one\n",
       "16     a   4.975374  one\n",
       "17     a   5.034142  one\n",
       "18     a   5.179549  one\n",
       "19     a   3.138024  one"
      ]
     },
     "execution_count": 2,
     "metadata": {},
     "output_type": "execute_result"
    }
   ],
   "source": [
    "df1.head(20)"
   ]
  },
  {
   "cell_type": "code",
   "execution_count": 3,
   "id": "03edc3d7",
   "metadata": {},
   "outputs": [
    {
     "data": {
      "text/plain": [
       "two    100\n",
       "one    100\n",
       "Name: time, dtype: int64"
      ]
     },
     "execution_count": 3,
     "metadata": {},
     "output_type": "execute_result"
    }
   ],
   "source": [
    "df1.time.value_counts()"
   ]
  },
  {
   "cell_type": "code",
   "execution_count": 4,
   "id": "c758ffec",
   "metadata": {},
   "outputs": [
    {
     "data": {
      "text/plain": [
       "<BarContainer object of 200 artists>"
      ]
     },
     "execution_count": 4,
     "metadata": {},
     "output_type": "execute_result"
    },
    {
     "data": {
      "image/png": "[encoded data removed]",
      "text/plain": [
       "<Figure size 432x288 with 1 Axes>"
      ]
     },
     "metadata": {
      "needs_background": "light"
     },
     "output_type": "display_data"
    }
   ],
   "source": [
    "plt.bar(df1.time,df1.x)"
   ]
  },
  {
   "cell_type": "markdown",
   "id": "73fe9208",
   "metadata": {},
   "source": [
    "############################   Exercises  #################################### "
   ]
  },
  {
   "cell_type": "markdown",
   "id": "523382e7",
   "metadata": {},
   "source": [
    "1. Make sure to perform a train, validate, test split before and use only your train dataset to explore the relationships between independent variables with other independent variables or independent variables with your target variable."
   ]
  },
  {
   "cell_type": "code",
   "execution_count": 5,
   "id": "b649dd78",
   "metadata": {},
   "outputs": [
    {
     "name": "stderr",
     "output_type": "stream",
     "text": [
      "/usr/local/anaconda3/lib/python3.8/site-packages/numpy/lib/arraysetops.py:583: FutureWarning: elementwise comparison failed; returning scalar instead, but in the future will perform elementwise comparison\n",
      "  mask |= (ar1 == a)\n"
     ]
    }
   ],
   "source": [
    "# Use our function from wrangle to acquire and prepare our data.\n",
    "df = wrangle.get_zillow_data()"
   ]
  },
  {
   "cell_type": "code",
   "execution_count": 6,
   "id": "eb12f080",
   "metadata": {},
   "outputs": [
    {
     "data": {
      "text/html": [
       "<div>\n",
       "<style scoped>\n",
       "    .dataframe tbody tr th:only-of-type {\n",
       "        vertical-align: middle;\n",
       "    }\n",
       "\n",
       "    .dataframe tbody tr th {\n",
       "        vertical-align: top;\n",
       "    }\n",
       "\n",
       "    .dataframe thead th {\n",
       "        text-align: right;\n",
       "    }\n",
       "</style>\n",
       "<table border=\"1\" class=\"dataframe\">\n",
       "  <thead>\n",
       "    <tr style=\"text-align: right;\">\n",
       "      <th></th>\n",
       "      <th>bedroomcnt</th>\n",
       "      <th>bathroomcnt</th>\n",
       "      <th>calculatedfinishedsquarefeet</th>\n",
       "      <th>taxvaluedollarcnt</th>\n",
       "      <th>yearbuilt</th>\n",
       "      <th>taxamount</th>\n",
       "      <th>fips</th>\n",
       "    </tr>\n",
       "  </thead>\n",
       "  <tbody>\n",
       "    <tr>\n",
       "      <th>0</th>\n",
       "      <td>0.0</td>\n",
       "      <td>0.0</td>\n",
       "      <td>NaN</td>\n",
       "      <td>9.0</td>\n",
       "      <td>NaN</td>\n",
       "      <td>NaN</td>\n",
       "      <td>6037.0</td>\n",
       "    </tr>\n",
       "    <tr>\n",
       "      <th>1</th>\n",
       "      <td>0.0</td>\n",
       "      <td>0.0</td>\n",
       "      <td>NaN</td>\n",
       "      <td>27516.0</td>\n",
       "      <td>NaN</td>\n",
       "      <td>NaN</td>\n",
       "      <td>6037.0</td>\n",
       "    </tr>\n",
       "    <tr>\n",
       "      <th>2</th>\n",
       "      <td>0.0</td>\n",
       "      <td>0.0</td>\n",
       "      <td>73026.0</td>\n",
       "      <td>1434941.0</td>\n",
       "      <td>1959.0</td>\n",
       "      <td>20800.37</td>\n",
       "      <td>6037.0</td>\n",
       "    </tr>\n",
       "    <tr>\n",
       "      <th>3</th>\n",
       "      <td>0.0</td>\n",
       "      <td>0.0</td>\n",
       "      <td>5068.0</td>\n",
       "      <td>1174475.0</td>\n",
       "      <td>1948.0</td>\n",
       "      <td>14557.57</td>\n",
       "      <td>6037.0</td>\n",
       "    </tr>\n",
       "    <tr>\n",
       "      <th>4</th>\n",
       "      <td>0.0</td>\n",
       "      <td>0.0</td>\n",
       "      <td>1776.0</td>\n",
       "      <td>440101.0</td>\n",
       "      <td>1947.0</td>\n",
       "      <td>5725.17</td>\n",
       "      <td>6037.0</td>\n",
       "    </tr>\n",
       "  </tbody>\n",
       "</table>\n",
       "</div>"
      ],
      "text/plain": [
       "   bedroomcnt  bathroomcnt  calculatedfinishedsquarefeet  taxvaluedollarcnt  \\\n",
       "0         0.0          0.0                           NaN                9.0   \n",
       "1         0.0          0.0                           NaN            27516.0   \n",
       "2         0.0          0.0                       73026.0          1434941.0   \n",
       "3         0.0          0.0                        5068.0          1174475.0   \n",
       "4         0.0          0.0                        1776.0           440101.0   \n",
       "\n",
       "   yearbuilt  taxamount    fips  \n",
       "0        NaN        NaN  6037.0  \n",
       "1        NaN        NaN  6037.0  \n",
       "2     1959.0   20800.37  6037.0  \n",
       "3     1948.0   14557.57  6037.0  \n",
       "4     1947.0    5725.17  6037.0  "
      ]
     },
     "execution_count": 6,
     "metadata": {},
     "output_type": "execute_result"
    }
   ],
   "source": [
    "df.head()"
   ]
  },
  {
   "cell_type": "code",
   "execution_count": 7,
   "id": "ad1e2f01",
   "metadata": {},
   "outputs": [
    {
     "data": {
      "image/png": "[encoded data removed]",
      "text/plain": [
       "<Figure size 1152x216 with 5 Axes>"
      ]
     },
     "metadata": {
      "needs_background": "light"
     },
     "output_type": "display_data"
    },
    {
     "data": {
      "image/png": "[encoded data removed]",
      "text/plain": [
       "<Figure size 1152x216 with 5 Axes>"
      ]
     },
     "metadata": {
      "needs_background": "light"
     },
     "output_type": "display_data"
    },
    {
     "name": "stderr",
     "output_type": "stream",
     "text": [
      "/Users/sarahwoods/codeup-data-science/regression-exercises/wrangle.py:171: SettingWithCopyWarning: \n",
      "A value is trying to be set on a copy of a slice from a DataFrame.\n",
      "Try using .loc[row_indexer,col_indexer] = value instead\n",
      "\n",
      "See the caveats in the documentation: https://pandas.pydata.org/pandas-docs/stable/user_guide/indexing.html#returning-a-view-versus-a-copy\n",
      "  train[['yearbuilt']] = imputer.transform(train[['yearbuilt']])\n",
      "/usr/local/anaconda3/lib/python3.8/site-packages/pandas/core/indexing.py:1738: SettingWithCopyWarning: \n",
      "A value is trying to be set on a copy of a slice from a DataFrame.\n",
      "Try using .loc[row_indexer,col_indexer] = value instead\n",
      "\n",
      "See the caveats in the documentation: https://pandas.pydata.org/pandas-docs/stable/user_guide/indexing.html#returning-a-view-versus-a-copy\n",
      "  self._setitem_single_column(loc, value[:, i].tolist(), pi)\n",
      "/Users/sarahwoods/codeup-data-science/regression-exercises/wrangle.py:172: SettingWithCopyWarning: \n",
      "A value is trying to be set on a copy of a slice from a DataFrame.\n",
      "Try using .loc[row_indexer,col_indexer] = value instead\n",
      "\n",
      "See the caveats in the documentation: https://pandas.pydata.org/pandas-docs/stable/user_guide/indexing.html#returning-a-view-versus-a-copy\n",
      "  validate[['yearbuilt']] = imputer.transform(validate[['yearbuilt']])\n",
      "/usr/local/anaconda3/lib/python3.8/site-packages/pandas/core/indexing.py:1738: SettingWithCopyWarning: \n",
      "A value is trying to be set on a copy of a slice from a DataFrame.\n",
      "Try using .loc[row_indexer,col_indexer] = value instead\n",
      "\n",
      "See the caveats in the documentation: https://pandas.pydata.org/pandas-docs/stable/user_guide/indexing.html#returning-a-view-versus-a-copy\n",
      "  self._setitem_single_column(loc, value[:, i].tolist(), pi)\n",
      "/Users/sarahwoods/codeup-data-science/regression-exercises/wrangle.py:173: SettingWithCopyWarning: \n",
      "A value is trying to be set on a copy of a slice from a DataFrame.\n",
      "Try using .loc[row_indexer,col_indexer] = value instead\n",
      "\n",
      "See the caveats in the documentation: https://pandas.pydata.org/pandas-docs/stable/user_guide/indexing.html#returning-a-view-versus-a-copy\n",
      "  test[['yearbuilt']] = imputer.transform(test[['yearbuilt']])\n",
      "/usr/local/anaconda3/lib/python3.8/site-packages/pandas/core/indexing.py:1738: SettingWithCopyWarning: \n",
      "A value is trying to be set on a copy of a slice from a DataFrame.\n",
      "Try using .loc[row_indexer,col_indexer] = value instead\n",
      "\n",
      "See the caveats in the documentation: https://pandas.pydata.org/pandas-docs/stable/user_guide/indexing.html#returning-a-view-versus-a-copy\n",
      "  self._setitem_single_column(loc, value[:, i].tolist(), pi)\n"
     ]
    }
   ],
   "source": [
    "train, validate, test = wrangle.prepare_zillow(df)"
   ]
  },
  {
   "cell_type": "code",
   "execution_count": 8,
   "id": "527a5f97",
   "metadata": {},
   "outputs": [
    {
     "data": {
      "text/html": [
       "<div>\n",
       "<style scoped>\n",
       "    .dataframe tbody tr th:only-of-type {\n",
       "        vertical-align: middle;\n",
       "    }\n",
       "\n",
       "    .dataframe tbody tr th {\n",
       "        vertical-align: top;\n",
       "    }\n",
       "\n",
       "    .dataframe thead th {\n",
       "        text-align: right;\n",
       "    }\n",
       "</style>\n",
       "<table border=\"1\" class=\"dataframe\">\n",
       "  <thead>\n",
       "    <tr style=\"text-align: right;\">\n",
       "      <th></th>\n",
       "      <th>bedroomcnt</th>\n",
       "      <th>bathroomcnt</th>\n",
       "      <th>calculatedfinishedsquarefeet</th>\n",
       "      <th>taxvaluedollarcnt</th>\n",
       "      <th>yearbuilt</th>\n",
       "      <th>fips</th>\n",
       "    </tr>\n",
       "  </thead>\n",
       "  <tbody>\n",
       "    <tr>\n",
       "      <th>359618</th>\n",
       "      <td>2.0</td>\n",
       "      <td>2.0</td>\n",
       "      <td>1271.0</td>\n",
       "      <td>337583.0</td>\n",
       "      <td>1982.0</td>\n",
       "      <td>6037.0</td>\n",
       "    </tr>\n",
       "    <tr>\n",
       "      <th>2364888</th>\n",
       "      <td>4.0</td>\n",
       "      <td>3.0</td>\n",
       "      <td>2671.0</td>\n",
       "      <td>215041.0</td>\n",
       "      <td>1964.0</td>\n",
       "      <td>6037.0</td>\n",
       "    </tr>\n",
       "    <tr>\n",
       "      <th>261280</th>\n",
       "      <td>4.0</td>\n",
       "      <td>3.0</td>\n",
       "      <td>2076.0</td>\n",
       "      <td>386870.0</td>\n",
       "      <td>1939.0</td>\n",
       "      <td>6037.0</td>\n",
       "    </tr>\n",
       "    <tr>\n",
       "      <th>1758266</th>\n",
       "      <td>1.0</td>\n",
       "      <td>1.0</td>\n",
       "      <td>682.0</td>\n",
       "      <td>176839.0</td>\n",
       "      <td>1974.0</td>\n",
       "      <td>6059.0</td>\n",
       "    </tr>\n",
       "    <tr>\n",
       "      <th>798177</th>\n",
       "      <td>3.0</td>\n",
       "      <td>1.0</td>\n",
       "      <td>1178.0</td>\n",
       "      <td>277027.0</td>\n",
       "      <td>1950.0</td>\n",
       "      <td>6037.0</td>\n",
       "    </tr>\n",
       "  </tbody>\n",
       "</table>\n",
       "</div>"
      ],
      "text/plain": [
       "         bedroomcnt  bathroomcnt  calculatedfinishedsquarefeet  \\\n",
       "359618          2.0          2.0                        1271.0   \n",
       "2364888         4.0          3.0                        2671.0   \n",
       "261280          4.0          3.0                        2076.0   \n",
       "1758266         1.0          1.0                         682.0   \n",
       "798177          3.0          1.0                        1178.0   \n",
       "\n",
       "         taxvaluedollarcnt  yearbuilt    fips  \n",
       "359618            337583.0     1982.0  6037.0  \n",
       "2364888           215041.0     1964.0  6037.0  \n",
       "261280            386870.0     1939.0  6037.0  \n",
       "1758266           176839.0     1974.0  6059.0  \n",
       "798177            277027.0     1950.0  6037.0  "
      ]
     },
     "execution_count": 8,
     "metadata": {},
     "output_type": "execute_result"
    }
   ],
   "source": [
    "train.head()"
   ]
  },
  {
   "cell_type": "markdown",
   "id": "2e5564c5",
   "metadata": {},
   "source": [
    "2. Write a function named plot_variable_pairs that accepts a dataframe as input and plots all of the pairwise relationships along with the regression line for each pair."
   ]
  },
  {
   "cell_type": "code",
   "execution_count": null,
   "id": "e413013a",
   "metadata": {},
   "outputs": [],
   "source": [
    "explore.create_pairplots(df.sample(1000))"
   ]
  },
  {
   "cell_type": "code",
   "execution_count": 11,
   "id": "b4205e91",
   "metadata": {},
   "outputs": [],
   "source": [
    "def create_pairplots(df):\n",
    "    sns.pairplot(df.drop(columns='fips').sample(100), kind='reg')\n",
    "    plt.show()"
   ]
  },
  {
   "cell_type": "code",
   "execution_count": 12,
   "id": "b5016193",
   "metadata": {},
   "outputs": [
    {
     "data": {
      "text/plain": [
       "bedroomcnt                      0\n",
       "bathroomcnt                     0\n",
       "calculatedfinishedsquarefeet    0\n",
       "taxvaluedollarcnt               0\n",
       "yearbuilt                       0\n",
       "fips                            0\n",
       "dtype: int64"
      ]
     },
     "execution_count": 12,
     "metadata": {},
     "output_type": "execute_result"
    }
   ],
   "source": [
    "train.isnull().sum()"
   ]
  },
  {
   "cell_type": "code",
   "execution_count": 13,
   "id": "091bb392",
   "metadata": {},
   "outputs": [],
   "source": [
    "#def get_pairplot():\n",
    "  #sns.pairplot(train, kind='reg')"
   ]
  },
  {
   "cell_type": "markdown",
   "id": "4be9b496",
   "metadata": {},
   "source": [
    "3. Write a function named bathroom_to_bedroom that accepts your zillow dataframe and returns a dataframe with a new feature bath_bed_ratio, in complete rooms."
   ]
  },
  {
   "cell_type": "code",
   "execution_count": 14,
   "id": "d3284476",
   "metadata": {},
   "outputs": [
    {
     "data": {
      "text/plain": [
       "359618     1.000000\n",
       "2364888    0.750000\n",
       "261280     0.750000\n",
       "1758266    1.000000\n",
       "798177     0.333333\n",
       "             ...   \n",
       "2143105    1.000000\n",
       "2035345    1.500000\n",
       "1785774    0.750000\n",
       "1943326    1.000000\n",
       "1649783    0.750000\n",
       "Length: 1409076, dtype: float64"
      ]
     },
     "execution_count": 14,
     "metadata": {},
     "output_type": "execute_result"
    }
   ],
   "source": [
    "explore.bathroom_to_bedroom(train)"
   ]
  },
  {
   "cell_type": "code",
   "execution_count": 15,
   "id": "b7086cee",
   "metadata": {},
   "outputs": [
    {
     "data": {
      "text/plain": [
       "359618     1.000000\n",
       "2364888    0.750000\n",
       "261280     0.750000\n",
       "1758266    1.000000\n",
       "798177     0.333333\n",
       "             ...   \n",
       "2143105    1.000000\n",
       "2035345    1.500000\n",
       "1785774    0.750000\n",
       "1943326    1.000000\n",
       "1649783    0.750000\n",
       "Length: 1409076, dtype: float64"
      ]
     },
     "execution_count": 15,
     "metadata": {},
     "output_type": "execute_result"
    }
   ],
   "source": [
    "def bathroom_to_bedroom(df):\n",
    "    bath_bed_ratio = df['bath_bed_ratio'] = df['bathroomcnt']/ df['bedroomcnt']\n",
    "    return bath_bed_ratio\n",
    "bathroom_to_bedroom(train)"
   ]
  },
  {
   "cell_type": "markdown",
   "id": "acc80e48",
   "metadata": {},
   "source": [
    "4. Write a function named plot_categorical_and_continuous_vars that accepts your dataframe and the name of the columns that hold the continuous and categorical features and outputs 3 different plots for visualizing a categorical variable and a continuous variable."
   ]
  },
  {
   "cell_type": "code",
   "execution_count": 16,
   "id": "1e429edd",
   "metadata": {},
   "outputs": [
    {
     "data": {
      "text/html": [
       "<div>\n",
       "<style scoped>\n",
       "    .dataframe tbody tr th:only-of-type {\n",
       "        vertical-align: middle;\n",
       "    }\n",
       "\n",
       "    .dataframe tbody tr th {\n",
       "        vertical-align: top;\n",
       "    }\n",
       "\n",
       "    .dataframe thead th {\n",
       "        text-align: right;\n",
       "    }\n",
       "</style>\n",
       "<table border=\"1\" class=\"dataframe\">\n",
       "  <thead>\n",
       "    <tr style=\"text-align: right;\">\n",
       "      <th></th>\n",
       "      <th>bedroomcnt</th>\n",
       "      <th>bathroomcnt</th>\n",
       "      <th>calculatedfinishedsquarefeet</th>\n",
       "      <th>taxvaluedollarcnt</th>\n",
       "      <th>yearbuilt</th>\n",
       "      <th>bath_bed_ratio</th>\n",
       "    </tr>\n",
       "  </thead>\n",
       "  <tbody>\n",
       "    <tr>\n",
       "      <th>bedroomcnt</th>\n",
       "      <td>1.000000</td>\n",
       "      <td>0.530942</td>\n",
       "      <td>0.658482</td>\n",
       "      <td>0.184286</td>\n",
       "      <td>0.044911</td>\n",
       "      <td>-0.408601</td>\n",
       "    </tr>\n",
       "    <tr>\n",
       "      <th>bathroomcnt</th>\n",
       "      <td>0.530942</td>\n",
       "      <td>1.000000</td>\n",
       "      <td>0.706343</td>\n",
       "      <td>0.338852</td>\n",
       "      <td>0.412206</td>\n",
       "      <td>0.495699</td>\n",
       "    </tr>\n",
       "    <tr>\n",
       "      <th>calculatedfinishedsquarefeet</th>\n",
       "      <td>0.658482</td>\n",
       "      <td>0.706343</td>\n",
       "      <td>1.000000</td>\n",
       "      <td>0.401241</td>\n",
       "      <td>0.215726</td>\n",
       "      <td>0.069823</td>\n",
       "    </tr>\n",
       "    <tr>\n",
       "      <th>taxvaluedollarcnt</th>\n",
       "      <td>0.184286</td>\n",
       "      <td>0.338852</td>\n",
       "      <td>0.401241</td>\n",
       "      <td>1.000000</td>\n",
       "      <td>0.228786</td>\n",
       "      <td>0.159042</td>\n",
       "    </tr>\n",
       "    <tr>\n",
       "      <th>yearbuilt</th>\n",
       "      <td>0.044911</td>\n",
       "      <td>0.412206</td>\n",
       "      <td>0.215726</td>\n",
       "      <td>0.228786</td>\n",
       "      <td>1.000000</td>\n",
       "      <td>0.398014</td>\n",
       "    </tr>\n",
       "    <tr>\n",
       "      <th>bath_bed_ratio</th>\n",
       "      <td>-0.408601</td>\n",
       "      <td>0.495699</td>\n",
       "      <td>0.069823</td>\n",
       "      <td>0.159042</td>\n",
       "      <td>0.398014</td>\n",
       "      <td>1.000000</td>\n",
       "    </tr>\n",
       "  </tbody>\n",
       "</table>\n",
       "</div>"
      ],
      "text/plain": [
       "                              bedroomcnt  bathroomcnt  \\\n",
       "bedroomcnt                      1.000000     0.530942   \n",
       "bathroomcnt                     0.530942     1.000000   \n",
       "calculatedfinishedsquarefeet    0.658482     0.706343   \n",
       "taxvaluedollarcnt               0.184286     0.338852   \n",
       "yearbuilt                       0.044911     0.412206   \n",
       "bath_bed_ratio                 -0.408601     0.495699   \n",
       "\n",
       "                              calculatedfinishedsquarefeet  taxvaluedollarcnt  \\\n",
       "bedroomcnt                                        0.658482           0.184286   \n",
       "bathroomcnt                                       0.706343           0.338852   \n",
       "calculatedfinishedsquarefeet                      1.000000           0.401241   \n",
       "taxvaluedollarcnt                                 0.401241           1.000000   \n",
       "yearbuilt                                         0.215726           0.228786   \n",
       "bath_bed_ratio                                    0.069823           0.159042   \n",
       "\n",
       "                              yearbuilt  bath_bed_ratio  \n",
       "bedroomcnt                     0.044911       -0.408601  \n",
       "bathroomcnt                    0.412206        0.495699  \n",
       "calculatedfinishedsquarefeet   0.215726        0.069823  \n",
       "taxvaluedollarcnt              0.228786        0.159042  \n",
       "yearbuilt                      1.000000        0.398014  \n",
       "bath_bed_ratio                 0.398014        1.000000  "
      ]
     },
     "execution_count": 16,
     "metadata": {},
     "output_type": "execute_result"
    }
   ],
   "source": [
    "train.corr()"
   ]
  },
  {
   "cell_type": "code",
   "execution_count": null,
   "id": "3fc8a01b",
   "metadata": {},
   "outputs": [],
   "source": [
    "#do a groupby like in the lesson example"
   ]
  },
  {
   "cell_type": "code",
   "execution_count": null,
   "id": "3adbe091",
   "metadata": {},
   "outputs": [],
   "source": []
  },
  {
   "cell_type": "code",
   "execution_count": null,
   "id": "c629704d",
   "metadata": {},
   "outputs": [],
   "source": [
    "#use example in lesson to make categorical variables"
   ]
  },
  {
   "cell_type": "code",
   "execution_count": 19,
   "id": "f9b9d7ef",
   "metadata": {},
   "outputs": [],
   "source": [
    "cats = train['calculatedfinishedsquarefeet'] = np.where(train.calculatedfinishedsquarefeet > train.calculatedfinishedsquarefeet.median(), 'large home', 'small home')\n",
    "cont = train.drop(columns=)"
   ]
  },
  {
   "cell_type": "code",
   "execution_count": 17,
   "id": "c8d39494",
   "metadata": {},
   "outputs": [
    {
     "ename": "NameError",
     "evalue": "name 'cats' is not defined",
     "output_type": "error",
     "traceback": [
      "\u001b[0;31m---------------------------------------------------------------------------\u001b[0m",
      "\u001b[0;31mNameError\u001b[0m                                 Traceback (most recent call last)",
      "\u001b[0;32m<ipython-input-17-563f10fbf438>\u001b[0m in \u001b[0;36m<module>\u001b[0;34m\u001b[0m\n\u001b[0;32m----> 1\u001b[0;31m \u001b[0mexplore\u001b[0m\u001b[0;34m.\u001b[0m\u001b[0mplot_categorical_and_continuous_vars\u001b[0m\u001b[0;34m(\u001b[0m\u001b[0mcats\u001b[0m\u001b[0;34m,\u001b[0m \u001b[0mvars\u001b[0m\u001b[0;34m,\u001b[0m \u001b[0mtrain\u001b[0m\u001b[0;34m)\u001b[0m\u001b[0;34m\u001b[0m\u001b[0;34m\u001b[0m\u001b[0m\n\u001b[0m",
      "\u001b[0;31mNameError\u001b[0m: name 'cats' is not defined"
     ]
    }
   ],
   "source": [
    "explore.plot_categorical_and_continuous_vars(cats, vars, train)"
   ]
  },
  {
   "cell_type": "code",
   "execution_count": 18,
   "id": "69da391e",
   "metadata": {},
   "outputs": [
    {
     "ename": "NameError",
     "evalue": "name 'correlation_table' is not defined",
     "output_type": "error",
     "traceback": [
      "\u001b[0;31m---------------------------------------------------------------------------\u001b[0m",
      "\u001b[0;31mNameError\u001b[0m                                 Traceback (most recent call last)",
      "\u001b[0;32m<ipython-input-18-c70cf47c0a25>\u001b[0m in \u001b[0;36m<module>\u001b[0;34m\u001b[0m\n\u001b[1;32m      8\u001b[0m \u001b[0;34m\u001b[0m\u001b[0m\n\u001b[1;32m      9\u001b[0m \u001b[0;31m# sns.heatmap(correlation_table,annot=True, vmin=-1, vmax=1)\u001b[0m\u001b[0;34m\u001b[0m\u001b[0;34m\u001b[0m\u001b[0;34m\u001b[0m\u001b[0m\n\u001b[0;32m---> 10\u001b[0;31m \u001b[0msns\u001b[0m\u001b[0;34m.\u001b[0m\u001b[0mheatmap\u001b[0m\u001b[0;34m(\u001b[0m\u001b[0mcorrelation_table\u001b[0m\u001b[0;34m,\u001b[0m \u001b[0mcmap\u001b[0m\u001b[0;34m=\u001b[0m\u001b[0;34m'Blues'\u001b[0m\u001b[0;34m,\u001b[0m \u001b[0mannot\u001b[0m\u001b[0;34m=\u001b[0m\u001b[0;32mTrue\u001b[0m\u001b[0;34m,\u001b[0m\u001b[0mvmin\u001b[0m\u001b[0;34m=\u001b[0m\u001b[0;34m-\u001b[0m\u001b[0;36m1\u001b[0m\u001b[0;34m,\u001b[0m \u001b[0mvmax\u001b[0m\u001b[0;34m=\u001b[0m\u001b[0;36m1\u001b[0m\u001b[0;34m)\u001b[0m\u001b[0;34m\u001b[0m\u001b[0;34m\u001b[0m\u001b[0m\n\u001b[0m\u001b[1;32m     11\u001b[0m \u001b[0mplt\u001b[0m\u001b[0;34m.\u001b[0m\u001b[0mshow\u001b[0m\u001b[0;34m(\u001b[0m\u001b[0;34m)\u001b[0m\u001b[0;34m\u001b[0m\u001b[0;34m\u001b[0m\u001b[0m\n\u001b[1;32m     12\u001b[0m \u001b[0;31m#make plot 2\u001b[0m\u001b[0;34m\u001b[0m\u001b[0;34m\u001b[0m\u001b[0;34m\u001b[0m\u001b[0m\n",
      "\u001b[0;31mNameError\u001b[0m: name 'correlation_table' is not defined"
     ]
    }
   ],
   "source": [
    "def plot_categorical_and_continuous_vars(cats, vars, train()):\n",
    "    cats = ['fips']\n",
    "    vars = ['bedroomcnt','bathroomcnt','calculatedfinishedsquarefeet','yearbuilt']\n",
    "    # return a heatmap\n",
    "    correlation_table = df.corr()\n",
    "        \n",
    "    # sns.heatmap(correlation_table,annot=True, vmin=-1, vmax=1)\n",
    "    sns.heatmap(correlation_table, cmap='Blues', annot=True,vmin=-1, vmax=1)\n",
    "    plt.show()\n",
    "    #make plot 2\n",
    "    df.bathroomcnt.plot.hist()\n",
    "    plt.show()\n",
    "    #make plot 3\n",
    "    df.bedroomcnt.plot.hist()\n",
    "    plt.show()\n",
    "    return cats, vars, df\n",
    "    \n"
   ]
  },
  {
   "cell_type": "code",
   "execution_count": null,
   "id": "3c48b915",
   "metadata": {},
   "outputs": [],
   "source": [
    "figure(figsize=(16, 6), dpi=80)\n",
    "plot_categorical_and_continuous_vars(cats, vars, train)"
   ]
  },
  {
   "cell_type": "code",
   "execution_count": null,
   "id": "8f527cf7",
   "metadata": {},
   "outputs": [],
   "source": [
    "# Make the plots\n",
    "correlation_table = train.corr()\n",
    "# sns.heatmap(correlation_table, cmap='Blues', annot=True, vmin=0, vmax=1)\n",
    "sns.heatmap(correlation_table, cmap='Blues', annot=True)"
   ]
  },
  {
   "cell_type": "code",
   "execution_count": null,
   "id": "35895a3c",
   "metadata": {},
   "outputs": [],
   "source": [
    "#make plot 2\n",
    "train.bathroomcnt.plot.hist()"
   ]
  },
  {
   "cell_type": "code",
   "execution_count": null,
   "id": "84c30e32",
   "metadata": {},
   "outputs": [],
   "source": [
    "#make plot 3\n",
    "train.bedroomcnt.plot.hist()"
   ]
  },
  {
   "cell_type": "markdown",
   "id": "605b762b",
   "metadata": {},
   "source": [
    "Save the functions you have written to create visualizations in your explore.py file. Rewrite your notebook code so that you are using the functions imported from this file."
   ]
  },
  {
   "cell_type": "markdown",
   "id": "88ae8146",
   "metadata": {},
   "source": [
    "Explore your dataset with any other visualizations you think will be helpful."
   ]
  },
  {
   "cell_type": "code",
   "execution_count": null,
   "id": "afb47199",
   "metadata": {},
   "outputs": [],
   "source": [
    "figure(figsize=(16, 6), dpi=80)\n",
    "sns.histplot(data=train, x='fips',bins=7,binwidth=1, hue='bedroomcnt')"
   ]
  },
  {
   "cell_type": "code",
   "execution_count": null,
   "id": "d48246d6",
   "metadata": {},
   "outputs": [],
   "source": [
    "figure(figsize=(16, 6), dpi=80)\n",
    "sns.histplot(data=train, x='fips', hue='bathroomcnt')"
   ]
  },
  {
   "cell_type": "code",
   "execution_count": null,
   "id": "5340aa24",
   "metadata": {},
   "outputs": [],
   "source": [
    "figure(figsize=(16, 6), dpi=80)\n",
    "sns.histplot(data=train, x='fips', hue='taxvaluedollarcnt')"
   ]
  },
  {
   "cell_type": "code",
   "execution_count": null,
   "id": "7bfc2a37",
   "metadata": {},
   "outputs": [],
   "source": [
    "sns.histplot(data=train, x='fips',bins=1000, hue='calculatedfinishedsquarefeet')\n",
    "#not a great visual for these variables"
   ]
  },
  {
   "cell_type": "code",
   "execution_count": null,
   "id": "4c1cb282",
   "metadata": {},
   "outputs": [],
   "source": [
    "sns.histplot(data=train, x='fips', hue='yearbuilt')\n",
    "#not a great visual for these variables"
   ]
  },
  {
   "cell_type": "code",
   "execution_count": null,
   "id": "63e1e004",
   "metadata": {},
   "outputs": [],
   "source": [
    "pd.crosstab(train.bedroomcnt, train.fips)"
   ]
  },
  {
   "cell_type": "code",
   "execution_count": null,
   "id": "aed66094",
   "metadata": {},
   "outputs": [],
   "source": [
    "pd.crosstab(train.bathroomcnt, train.fips)"
   ]
  },
  {
   "cell_type": "code",
   "execution_count": null,
   "id": "79e574b8",
   "metadata": {},
   "outputs": [],
   "source": [
    "pd.crosstab(train.calculatedfinishedsquarefeet, train.fips)"
   ]
  },
  {
   "cell_type": "code",
   "execution_count": null,
   "id": "53d16e65",
   "metadata": {},
   "outputs": [],
   "source": [
    "########################### EXERCISES II CHALLENGE #################################"
   ]
  },
  {
   "cell_type": "markdown",
   "id": "e6bfe5ca",
   "metadata": {},
   "source": [
    "Your goal is to predict the values of single unit properties using the observations from 2017"
   ]
  },
  {
   "cell_type": "markdown",
   "id": "a91de5cb",
   "metadata": {},
   "source": [
    "2. Come up with some initial hypotheses based on your goal of predicting property value.\n",
    "\n"
   ]
  },
  {
   "cell_type": "code",
   "execution_count": null,
   "id": "3e5fcceb",
   "metadata": {},
   "outputs": [],
   "source": []
  },
  {
   "cell_type": "code",
   "execution_count": null,
   "id": "4a470a68",
   "metadata": {},
   "outputs": [],
   "source": []
  },
  {
   "cell_type": "code",
   "execution_count": null,
   "id": "f0b801c2",
   "metadata": {},
   "outputs": [],
   "source": []
  },
  {
   "cell_type": "code",
   "execution_count": null,
   "id": "8638d738",
   "metadata": {},
   "outputs": [],
   "source": []
  },
  {
   "cell_type": "code",
   "execution_count": null,
   "id": "0bed11be",
   "metadata": {},
   "outputs": [],
   "source": []
  },
  {
   "cell_type": "code",
   "execution_count": null,
   "id": "350eecc9",
   "metadata": {},
   "outputs": [],
   "source": []
  }
 ],
 "metadata": {
  "kernelspec": {
   "display_name": "Python 3",
   "language": "python",
   "name": "python3"
  },
  "language_info": {
   "codemirror_mode": {
    "name": "ipython",
    "version": 3
   },
   "file_extension": ".py",
   "mimetype": "text/x-python",
   "name": "python",
   "nbconvert_exporter": "python",
   "pygments_lexer": "ipython3",
   "version": "3.8.8"
  }
 },
 "nbformat": 4,
 "nbformat_minor": 5
}
